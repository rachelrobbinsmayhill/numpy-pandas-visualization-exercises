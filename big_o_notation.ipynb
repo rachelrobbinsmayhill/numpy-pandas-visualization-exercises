{
 "cells": [
  {
   "cell_type": "markdown",
   "id": "f36c474e",
   "metadata": {},
   "source": [
    "# big_o_notation"
   ]
  },
  {
   "cell_type": "markdown",
   "id": "b660b05c",
   "metadata": {},
   "source": [
    "### Make a new Jupyter notebook named big_o_notation.ipynb\n",
    "\n",
    "- Title your chart \"Big O Notation\"\n",
    "- Label your x axis \"Elements\"\n",
    "- Label your y axis \"Operations\"\n",
    "- Label your curves or make a legend for the curves\n",
    "- Use LaTex notation where possible"
   ]
  },
  {
   "cell_type": "markdown",
   "id": "5b732129",
   "metadata": {},
   "source": [
    "#### Bonus Write the code necessary to write your name on a chart. Use box letters.\n",
    "\n",
    "#### Bonus: use curves for letters in your name that have curves in them."
   ]
  },
  {
   "cell_type": "code",
   "execution_count": null,
   "id": "f51d8597",
   "metadata": {},
   "outputs": [],
   "source": []
  }
 ],
 "metadata": {
  "kernelspec": {
   "display_name": "Python 3 (ipykernel)",
   "language": "python",
   "name": "python3"
  },
  "language_info": {
   "codemirror_mode": {
    "name": "ipython",
    "version": 3
   },
   "file_extension": ".py",
   "mimetype": "text/x-python",
   "name": "python",
   "nbconvert_exporter": "python",
   "pygments_lexer": "ipython3",
   "version": "3.9.7"
  }
 },
 "nbformat": 4,
 "nbformat_minor": 5
}
