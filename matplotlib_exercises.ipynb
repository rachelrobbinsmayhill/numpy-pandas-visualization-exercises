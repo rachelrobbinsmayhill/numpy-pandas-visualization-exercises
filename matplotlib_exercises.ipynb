{
 "cells": [
  {
   "cell_type": "markdown",
   "id": "cb5426ae",
   "metadata": {},
   "source": [
    "# matplotlib_exercises"
   ]
  },
  {
   "cell_type": "code",
   "execution_count": 1,
   "id": "8d848e0c",
   "metadata": {},
   "outputs": [],
   "source": [
    "#import pyplot module as alias plt\n",
    "import matplotlib.pyplot as plt  \n",
    "\n",
    "#import other libraries \n",
    "import numpy as np\n",
    "import math\n",
    "from random import randint\n",
    "import random\n",
    "import pandas as pd"
   ]
  },
  {
   "cell_type": "markdown",
   "id": "cac7b00a",
   "metadata": {},
   "source": [
    "### 1. Use matplotlib to plot the following equation:\n",
    "-    y = x**2 - x + 2\n",
    "\n",
    "- You'll need to write the code that generates the x and y points.\n",
    "\n",
    "- Add an anotation for the point 0, 0, the origin."
   ]
  },
  {
   "cell_type": "code",
   "execution_count": 22,
   "id": "388cc15f",
   "metadata": {},
   "outputs": [
    {
     "data": {
      "text/plain": [
       "Text(-8, 500, 'The Origin')"
      ]
     },
     "execution_count": 22,
     "metadata": {},
     "output_type": "execute_result"
    },
    {
     "data": {
      "image/png": "[encoded data removed]",
      "text/plain": [
       "<Figure size 432x288 with 1 Axes>"
      ]
     },
     "metadata": {
      "needs_background": "light"
     },
     "output_type": "display_data"
    }
   ],
   "source": [
    "x = list(range(-50, 50))\n",
    "y = [(n ** 2 - n + 2)for n in x]\n",
    "\n",
    "plt.scatter(x,y)\n",
    "plt.title('$y=x^2-x+2$')\n",
    "plt.annotate('The Origin', xy=(0, 0), xytext=(-8, 500),\n",
    "             arrowprops={'facecolor': 'blue'})"
   ]
  },
  {
   "cell_type": "markdown",
   "id": "6740a243",
   "metadata": {},
   "source": [
    "### 2. Create and label 4 separate charts for the following equations (choose a range for x that makes sense):\n",
    "\n",
    "- y = √x\n",
    "\n",
    "- y = x**3\n",
    "\n",
    "- y = 2**x\n",
    "\n",
    "- y = 1/(x+1)\n",
    "\n",
    "- You can use functions from the math module to help implement some of the equations above."
   ]
  },
  {
   "cell_type": "code",
   "execution_count": 38,
   "id": "2c13360b",
   "metadata": {},
   "outputs": [
    {
     "data": {
      "text/plain": [
       "(0.0, 10.0)"
      ]
     },
     "execution_count": 38,
     "metadata": {},
     "output_type": "execute_result"
    },
    {
     "data": {
      "image/png": "[encoded data removed]",
      "text/plain": [
       "<Figure size 432x288 with 1 Axes>"
      ]
     },
     "metadata": {
      "needs_background": "light"
     },
     "output_type": "display_data"
    }
   ],
   "source": [
    "# Will need 4 different graphs\n",
    "# Will need 4 different equations\n",
    "# Will need 2 variables for each graph\n",
    "\n",
    "\n",
    "\n",
    "\n",
    "# plt.title('$y = \\sqrt{x}$') \n",
    "# [(math.sqrt(n))for n in x1]\n",
    "\n",
    "\n",
    "\n",
    "# plt.title('$y = {x} ** 3$')\n",
    "# [(n ** 3) for n in x2]\n",
    "\n",
    "\n",
    "# plt.title('$y = 2 ** {x}$')\n",
    "# [()]\n",
    "\n",
    "# plt.title('$y = 1/({x}+1)$')\n",
    "\n",
    "\n",
    "\n",
    "\n",
    "\n",
    "#\n",
    "\n",
    "\n",
    "\n",
    "\n",
    "\n",
    "x1 = list(range(-100, 100))\n",
    "y1 = [(math.sqrt(n))for n in x1]\n",
    "y2 = [(n ** 3) for n in x2]\n",
    "y3 = \n",
    "\n",
    "plt.plot(x1,y1)\n",
    "\n",
    "plt.title('$y = \\sqrt{x}$')\n",
    "plt.xlabel('$x$')\n",
    "plt.ylabel('$\\sqrt{x1}$')\n",
    "plt.xlim(0,100)\n",
    "plt.ylim(0,10)\n"
   ]
  },
  {
   "cell_type": "markdown",
   "id": "048919ca",
   "metadata": {},
   "source": [
    "### 3. Combine the figures you created in the last step into one large figure with 4 subplots."
   ]
  },
  {
   "cell_type": "code",
   "execution_count": 31,
   "id": "f7fc02f2",
   "metadata": {},
   "outputs": [
    {
     "data": {
      "text/plain": [
       "Text(0.5, 1.0, '$x^{3}$')"
      ]
     },
     "execution_count": 31,
     "metadata": {},
     "output_type": "execute_result"
    },
    {
     "data": {
      "image/png": "[encoded data removed]",
      "text/plain": [
       "<Figure size 432x288 with 1 Axes>"
      ]
     },
     "metadata": {
      "needs_background": "light"
     },
     "output_type": "display_data"
    }
   ],
   "source": [
    "x1 = [x * 1 for x in range(0,70)]\n",
    "y1 = [math.sqrt(x) for x in x1]\n",
    "\n",
    "# 100 linearly spaced numbers\n",
    "x2 = np.linspace(-5,5,100)\n",
    "y2 = x2 ** 3\n",
    "x3 = np.linspace(-5,5,100)\n",
    "y3= [2 ** x for x in x3]\n",
    "x4 = np.linspace(-5,5,100)\n",
    "y4 = [1/(x+1) for x in x4]\n",
    "\n",
    "plt.subplot(2,2,2)\n",
    "plt.plot(x2,y2, 'g')\n",
    "plt.title('$x^{3}$')\n"
   ]
  },
  {
   "cell_type": "markdown",
   "id": "ee7973d2",
   "metadata": {},
   "source": [
    "### 4. Combine the figures you created in the last step into one figure where each of the 4 equations has a different color for the points. Be sure to include a legend and an appropriate title for the figure."
   ]
  },
  {
   "cell_type": "code",
   "execution_count": null,
   "id": "20206730",
   "metadata": {},
   "outputs": [],
   "source": []
  },
  {
   "cell_type": "markdown",
   "id": "016fe7e0",
   "metadata": {},
   "source": [
    "### 4. Make a new Jupyter notebook named big_o_notation.ipynb\n",
    "\n",
    "- Title your chart \"Big O Notation\"\n",
    "- Label your x axis \"Elements\"\n",
    "- Label your y axis \"Operations\"\n",
    "- Label your curves or make a legend for the curves\n",
    "- Use LaTex notation where possible\n",
    "- Curves to graph"
   ]
  }
 ],
 "metadata": {
  "kernelspec": {
   "display_name": "Python 3 (ipykernel)",
   "language": "python",
   "name": "python3"
  },
  "language_info": {
   "codemirror_mode": {
    "name": "ipython",
    "version": 3
   },
   "file_extension": ".py",
   "mimetype": "text/x-python",
   "name": "python",
   "nbconvert_exporter": "python",
   "pygments_lexer": "ipython3",
   "version": "3.9.7"
  }
 },
 "nbformat": 4,
 "nbformat_minor": 5
}
